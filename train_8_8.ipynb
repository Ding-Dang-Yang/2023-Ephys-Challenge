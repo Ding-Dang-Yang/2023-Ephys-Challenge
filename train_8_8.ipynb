{
  "nbformat": 4,
  "nbformat_minor": 0,
  "metadata": {
    "colab": {
      "provenance": []
    },
    "kernelspec": {
      "name": "python3",
      "display_name": "Python 3"
    },
    "language_info": {
      "name": "python"
    }
  },
  "cells": [
    {
      "cell_type": "code",
      "source": [
        "pip install pennylane --upgrade"
      ],
      "metadata": {
        "id": "zYnCvzNyOdU-",
        "colab": {
          "base_uri": "https://localhost:8080/"
        },
        "outputId": "67c08928-a976-455a-ea11-496a144c9407"
      },
      "execution_count": 36,
      "outputs": [
        {
          "output_type": "stream",
          "name": "stdout",
          "text": [
            "Requirement already satisfied: pennylane in /usr/local/lib/python3.10/dist-packages (0.33.1)\n",
            "Requirement already satisfied: numpy in /usr/local/lib/python3.10/dist-packages (from pennylane) (1.23.5)\n",
            "Requirement already satisfied: scipy in /usr/local/lib/python3.10/dist-packages (from pennylane) (1.11.3)\n",
            "Requirement already satisfied: networkx in /usr/local/lib/python3.10/dist-packages (from pennylane) (3.2.1)\n",
            "Requirement already satisfied: rustworkx in /usr/local/lib/python3.10/dist-packages (from pennylane) (0.13.2)\n",
            "Requirement already satisfied: autograd in /usr/local/lib/python3.10/dist-packages (from pennylane) (1.6.2)\n",
            "Requirement already satisfied: toml in /usr/local/lib/python3.10/dist-packages (from pennylane) (0.10.2)\n",
            "Requirement already satisfied: appdirs in /usr/local/lib/python3.10/dist-packages (from pennylane) (1.4.4)\n",
            "Requirement already satisfied: semantic-version>=2.7 in /usr/local/lib/python3.10/dist-packages (from pennylane) (2.10.0)\n",
            "Requirement already satisfied: autoray>=0.6.1 in /usr/local/lib/python3.10/dist-packages (from pennylane) (0.6.7)\n",
            "Requirement already satisfied: cachetools in /usr/local/lib/python3.10/dist-packages (from pennylane) (5.3.2)\n",
            "Requirement already satisfied: pennylane-lightning>=0.33 in /usr/local/lib/python3.10/dist-packages (from pennylane) (0.33.1)\n",
            "Requirement already satisfied: requests in /usr/local/lib/python3.10/dist-packages (from pennylane) (2.31.0)\n",
            "Requirement already satisfied: typing-extensions in /usr/local/lib/python3.10/dist-packages (from pennylane) (4.5.0)\n",
            "Requirement already satisfied: future>=0.15.2 in /usr/local/lib/python3.10/dist-packages (from autograd->pennylane) (0.18.3)\n",
            "Requirement already satisfied: charset-normalizer<4,>=2 in /usr/local/lib/python3.10/dist-packages (from requests->pennylane) (3.3.2)\n",
            "Requirement already satisfied: idna<4,>=2.5 in /usr/local/lib/python3.10/dist-packages (from requests->pennylane) (3.4)\n",
            "Requirement already satisfied: urllib3<3,>=1.21.1 in /usr/local/lib/python3.10/dist-packages (from requests->pennylane) (2.0.7)\n",
            "Requirement already satisfied: certifi>=2017.4.17 in /usr/local/lib/python3.10/dist-packages (from requests->pennylane) (2023.7.22)\n",
            "\u001b[31mERROR: Operation cancelled by user\u001b[0m\u001b[31m\n",
            "\u001b[0m"
          ]
        }
      ]
    },
    {
      "cell_type": "code",
      "execution_count": 37,
      "metadata": {
        "id": "7jg-djdd-Z-g"
      },
      "outputs": [],
      "source": [
        "import numpy as np\n",
        "import pandas as pd\n",
        "from sklearn import datasets\n",
        "import seaborn as sns\n",
        "import jax;\n",
        "jax.config.update('jax_platform_name', 'cpu')\n",
        "jax.config.update(\"jax_enable_x64\", True)\n",
        "import jax.numpy as jnp\n",
        "import optax  # optimization using jax\n",
        "import pennylane as qml\n",
        "import pennylane.numpy as pnp"
      ]
    },
    {
      "cell_type": "code",
      "source": [
        "seed=0\n",
        "rng=np.random.default_rng(seed=seed)\n",
        "Num_wires=6\n",
        "Device=qml.device(\"default.qubit\", wires=Num_wires)"
      ],
      "metadata": {
        "id": "uGHbTUDk2boW"
      },
      "execution_count": 38,
      "outputs": []
    },
    {
      "cell_type": "code",
      "source": [
        "from google.colab import drive\n",
        "drive.mount('/content/drive')"
      ],
      "metadata": {
        "id": "sjLT9Nppod1d",
        "colab": {
          "base_uri": "https://localhost:8080/"
        },
        "outputId": "587b1e2a-f742-4b2d-ca7e-45ec3f493fff"
      },
      "execution_count": 39,
      "outputs": [
        {
          "output_type": "stream",
          "name": "stdout",
          "text": [
            "Drive already mounted at /content/drive; to attempt to forcibly remount, call drive.mount(\"/content/drive\", force_remount=True).\n"
          ]
        }
      ]
    },
    {
      "cell_type": "code",
      "source": [
        "def Read_MNIST(data):\n",
        " fr=open(\"/content/drive/MyDrive/Colab Notebooks/Quantum machine learning/2023 Ephys Challenge/CIFAR-100_%s.text\"%(data),\"r\")\n",
        " img=[]\n",
        " trg=[]\n",
        " for line in fr:\n",
        "  lx=line.split()\n",
        "  if len(lx)==1:\n",
        "   trg.append(int(lx[0]))\n",
        "  else:\n",
        "   for i in range (len(lx)):\n",
        "    img.append(np.float64(lx[i]))\n",
        " fr.close()\n",
        " img2=np.asarray(img).reshape(-1,8*8)\n",
        " img3=img2/np.linalg.norm(img2,axis=1).reshape((-1,1))\n",
        " return jnp.asarray(trg),jnp.asarray(img3)"
      ],
      "metadata": {
        "id": "V14_1tTQoHGl"
      },
      "execution_count": 40,
      "outputs": []
    },
    {
      "cell_type": "code",
      "source": [
        "def Read_Data():\n",
        " y_test,x_test=Read_MNIST(\"test\")\n",
        " y_train,x_train=Read_MNIST(\"train\")\n",
        " return x_train,y_train,x_test,y_test"
      ],
      "metadata": {
        "id": "0EBtar5uoKOr"
      },
      "execution_count": 41,
      "outputs": []
    },
    {
      "cell_type": "code",
      "source": [
        "def convolutional_layer(weights,wires,skip_first_layer=True):\n",
        " n_wires=len(wires)\n",
        " assert n_wires >= 3, \"this circuit is too small!\"\n",
        " for p in [0, 1]:\n",
        "  for indx, w in enumerate(wires):\n",
        "   if indx % 2 == p and indx < n_wires - 1:\n",
        "    if indx % 2 == 0 and not skip_first_layer:\n",
        "      qml.U3(*weights[:3],wires=[w])\n",
        "      qml.U3(*weights[3:6],wires=[wires[indx+1]])\n",
        "    qml.IsingXX(weights[6],wires=[w,wires[indx+1]])\n",
        "    qml.IsingYY(weights[7],wires=[w,wires[indx+1]])\n",
        "    qml.IsingZZ(weights[8],wires=[w,wires[indx+1]])\n",
        "    qml.U3(*weights[9:12],wires=[w])\n",
        "    qml.U3(*weights[12:],wires=[wires[indx+1]])"
      ],
      "metadata": {
        "id": "w5SIIkthmwJf"
      },
      "execution_count": 42,
      "outputs": []
    },
    {
      "cell_type": "code",
      "source": [
        "\n",
        "def pooling_layer(weights, wires):\n",
        " n_wires = len(wires)\n",
        " assert len(wires) >= 2, \"this circuit is too small!\"\n",
        " for indx, w in enumerate(wires):\n",
        "  if indx % 2 == 1 and indx < n_wires:\n",
        "   m_outcome = qml.measure(w)\n",
        "   qml.cond(m_outcome, qml.U3)(*weights, wires=wires[indx - 1])"
      ],
      "metadata": {
        "id": "Re6cs1nQ_Fyd"
      },
      "execution_count": 43,
      "outputs": []
    },
    {
      "cell_type": "code",
      "source": [
        "def conv_and_pooling(kernel_weights,n_wires,skip_first_layer=True):\n",
        " convolutional_layer(kernel_weights[:15],n_wires,skip_first_layer=skip_first_layer)\n",
        " pooling_layer(kernel_weights[15:],n_wires)"
      ],
      "metadata": {
        "id": "j90hbd6UnR20"
      },
      "execution_count": 44,
      "outputs": []
    },
    {
      "cell_type": "code",
      "source": [
        "def dense_layer(weights,wires):\n",
        " qml.ArbitraryUnitary(weights,wires)"
      ],
      "metadata": {
        "id": "rseYE74PnUQE"
      },
      "execution_count": 45,
      "outputs": []
    },
    {
      "cell_type": "code",
      "source": [
        "@qml.qnode(Device,interface=\"jax\")\n",
        "def conv_net(weights,last_layer_weights,features):\n",
        " layers=weights.shape[1]\n",
        " wires=list(range(Num_wires))\n",
        " qml.AmplitudeEmbedding(features=features,wires=wires,pad_with=0.5)\n",
        " qml.Barrier(wires=wires,only_visual=True)\n",
        " for j in range(layers):\n",
        "  conv_and_pooling(weights[:,j],wires,skip_first_layer=(not j == 0))\n",
        "  wires = wires[::2]\n",
        "  qml.Barrier(wires=wires, only_visual=True)\n",
        " assert last_layer_weights.size == 4 ** (len(wires)) - 1, (\n",
        "  \"The size of the last layer weights vector is incorrect!\"\n",
        "  f\" \\n Expected {4 ** (len(wires)) - 1}, Given {last_layer_weights.size}\")\n",
        " dense_layer(last_layer_weights, wires)\n",
        " return qml.probs(wires=(0))"
      ],
      "metadata": {
        "id": "qpGjAju2nffk"
      },
      "execution_count": 46,
      "outputs": []
    },
    {
      "cell_type": "code",
      "source": [
        "@jax.jit\n",
        "def compute_out(weights, weights_last, features, labels):\n",
        "  cost=lambda weights,weights_last,feature,label:conv_net(weights,weights_last,feature)[label]\n",
        "  return jax.vmap(cost,in_axes=(None,None,0,0),out_axes=0)(weights,weights_last,features,labels)\n",
        "def compute_accuracy(weights, weights_last, features, labels):\n",
        "  out=compute_out(weights,weights_last,features,labels)\n",
        "  return jnp.sum(out>0.5)/len(out)\n",
        "def compute_cost(weights,weights_last,features,labels):\n",
        "  out=compute_out(weights,weights_last,features,labels)\n",
        "  return 1.0-jnp.sum(out)/len(labels)\n",
        "def init_weights():\n",
        "  weights=pnp.random.normal(loc=0,scale=1,size=(18,2),requires_grad=True) #18參數 2層\n",
        "  weights_last=pnp.random.normal(loc=0,scale=1,size=4**2-1,requires_grad=True)\n",
        "  return jnp.array(weights),jnp.array(weights_last)\n",
        "value_and_grad=jax.jit(jax.value_and_grad(compute_cost,argnums=[0,1]))"
      ],
      "metadata": {
        "id": "rmdH3ouW_Y6l"
      },
      "execution_count": 47,
      "outputs": []
    },
    {
      "cell_type": "code",
      "source": [
        "def train_qcnn(n_train,n_test,n_epochs):\n",
        " x_train,y_train,x_test,y_test=Read_Data()\n",
        " weights,weights_last=init_weights() #print initial weight\n",
        " cosine_decay_scheduler=optax.cosine_decay_schedule(0.1,decay_steps=n_epochs,alpha=0.95)  #學習率\n",
        " optimizer=optax.adam(learning_rate=cosine_decay_scheduler)\n",
        " opt_state=optimizer.init((weights,weights_last))\n",
        " train_cost_epochs,test_cost_epochs,train_acc_epochs,test_acc_epochs=[],[],[],[]\n",
        " for step in range(n_epochs):\n",
        "  train_cost,grad_circuit=value_and_grad(weights,weights_last,x_train,y_train)\n",
        "  updates,opt_state=optimizer.update(grad_circuit,opt_state)\n",
        "  weights,weights_last=optax.apply_updates((weights,weights_last),updates) #可能印一下每一步的weight\n",
        "  train_cost_epochs.append(train_cost)\n",
        "  train_acc=compute_accuracy(weights,weights_last,x_train,y_train)\n",
        "  train_acc_epochs.append(train_acc)\n",
        "  test_out=compute_out(weights,weights_last,x_test,y_test)\n",
        "  test_acc=jnp.sum(test_out>0.5)/len(test_out)  #判斷0,1的邏輯\n",
        "  test_acc_epochs.append(test_acc)\n",
        "  test_cost=1.0-jnp.sum(test_out)/len(test_out)\n",
        "  test_cost_epochs.append(test_cost)\n",
        " return train_cost_epochs,test_cost_epochs,train_acc_epochs,test_acc_epochs"
      ],
      "metadata": {
        "id": "pInYjNIr_dFP"
      },
      "execution_count": 48,
      "outputs": []
    },
    {
      "cell_type": "code",
      "source": [
        "def Write_acc(train_cost,test_cost,train_acc,test_acc):\n",
        " fw=open(\"/content/drive/MyDrive/Colab Notebooks/Quantum machine learning/2023 Ephys Challenge/accuracy_8_8.text\",\"w\")\n",
        " fw.write(\"epoch train_cost  test_cost  train_acc   test_acc\\n\")\n",
        " for i in range (len(train_acc)):\n",
        "  fw.write(\"%5d %10.2f %10.2f %10.2f %10.2f\\n\"%(i,train_cost[i],test_cost[i],train_acc[i],test_acc[i]))\n",
        " fw.close()"
      ],
      "metadata": {
        "id": "JmoZosNRtCkH"
      },
      "execution_count": 49,
      "outputs": []
    },
    {
      "cell_type": "code",
      "source": [
        "def Main():\n",
        " n_train=100000\n",
        " n_test=30000\n",
        " n_epochs=30\n",
        " train_cost,test_cost,train_acc,test_acc=train_qcnn(n_train,n_test,n_epochs)\n",
        " Write_acc(train_cost,test_cost,train_acc,test_acc)"
      ],
      "metadata": {
        "id": "dtbtilwd_uSK"
      },
      "execution_count": 55,
      "outputs": []
    },
    {
      "cell_type": "code",
      "source": [
        "Main()"
      ],
      "metadata": {
        "id": "9jmqaCZZzVp3"
      },
      "execution_count": 56,
      "outputs": []
    },
    {
      "cell_type": "code",
      "source": [],
      "metadata": {
        "id": "CxglJTzxNwxW"
      },
      "execution_count": 51,
      "outputs": []
    }
  ]
}