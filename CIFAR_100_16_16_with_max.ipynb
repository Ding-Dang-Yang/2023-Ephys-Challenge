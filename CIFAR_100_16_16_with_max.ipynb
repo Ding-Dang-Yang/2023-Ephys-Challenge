{
  "nbformat": 4,
  "nbformat_minor": 0,
  "metadata": {
    "colab": {
      "provenance": []
    },
    "kernelspec": {
      "name": "python3",
      "display_name": "Python 3"
    },
    "language_info": {
      "name": "python"
    }
  },
  "cells": [
    {
      "cell_type": "code",
      "source": [
        "import torch\n",
        "import torchvision\n",
        "import torchvision.transforms as transforms\n",
        "import numpy as np\n",
        "\n",
        "from torchvision import datasets\n",
        "from PIL import Image"
      ],
      "metadata": {
        "id": "-DBRUo9GIiax"
      },
      "execution_count": null,
      "outputs": []
    },
    {
      "cell_type": "code",
      "source": [
        "from google.colab import drive\n",
        "drive.mount('/content/drive')"
      ],
      "metadata": {
        "colab": {
          "base_uri": "https://localhost:8080/"
        },
        "id": "wIdTwMtKIqB3",
        "outputId": "49afffe5-13c5-4c6a-9e1e-de54e0058654"
      },
      "execution_count": null,
      "outputs": [
        {
          "output_type": "stream",
          "name": "stdout",
          "text": [
            "Mounted at /content/drive\n"
          ]
        }
      ]
    },
    {
      "cell_type": "code",
      "source": [
        "def Convert(data):\n",
        "  img_list=[]\n",
        "  target_list=[]\n",
        "  for batch_idx,(img,target) in enumerate(data):\n",
        "    if ((target==3)|(target==88)):\n",
        "     target_list.append(target)\n",
        "     img_list.append(img)\n",
        "  return target_list,img_list"
      ],
      "metadata": {
        "id": "W6F8xId3IkZ_"
      },
      "execution_count": null,
      "outputs": []
    },
    {
      "cell_type": "code",
      "source": [
        "def Output_train(train,target,img):\n",
        "  #fw=open(\"/content/drive/MyDrive/Colab Notebooks/Quantum machine learning/2023 Ephys Challenge/CIFAR-100_%s.text\"%(train),\"w\")\n",
        "  #fw=open(\"/content/drive/MyDrive/Colab Notebooks/Quantum machine learning/1. Crawl data/CIFAR-100_%s.text\"%(train),\"w\")\n",
        "  fw=open(\"/content/drive/MyDrive/Colab Notebooks/Quantum machine learning/2023 Ephys Challenge/CIFAR-100_with_max_%s_16_16.text\"%(train),\"w\")\n",
        "  n0=img[0].shape[0]\n",
        "  n1=img[0].shape[1]\n",
        "  n2=img[0].shape[2]\n",
        "  for m in range (len(target)):\n",
        "    fw.write(\"%s\\n\"%(target[m]))\n",
        "    for i in range (n0):\n",
        "      for j in range (n1):\n",
        "        for k in range (n2):\n",
        "          fw.write(\"%17.13f\"%(img[m][i][j][k]))\n",
        "          if k%8==7:\n",
        "            fw.write(\"\\n\")\n",
        "    for j0 in range (n1):\n",
        "     for k0 in range (n2):\n",
        "      max_color=-100\n",
        "      for i0 in range (n0):\n",
        "       if img[m][i0][j0][k0]>max_color:\n",
        "        max_color=img[m][i0][j0][k0]\n",
        "      fw.write(\"%17.13f\"%(max_color))\n",
        "      if k0%8==7:\n",
        "       fw.write(\"\\n\")\n",
        "  fw.write(\"\\n\")\n",
        "  fw.close()"
      ],
      "metadata": {
        "id": "RbFpWYD4IlcP"
      },
      "execution_count": null,
      "outputs": []
    },
    {
      "cell_type": "code",
      "source": [
        "def Main():\n",
        "  transform=transforms.Compose([transforms.Resize((8,8)),transforms.ToTensor()])\n",
        "  train_data=datasets.CIFAR100(root='./data',train=True,download=True,transform=transform)\n",
        "  test_data=datasets.CIFAR100(root='./data',train=False,download=True,transform=transform)\n",
        "  target_train,img_train=Convert(train_data)\n",
        "  target_test,img_test=Convert(test_data)\n",
        "  Output_train(\"train\",target_train,img_train)\n",
        "  Output_train(\"test\",target_test,img_test)"
      ],
      "metadata": {
        "id": "qpUWY5WqInN_"
      },
      "execution_count": null,
      "outputs": []
    },
    {
      "cell_type": "code",
      "source": [
        "Main()"
      ],
      "metadata": {
        "colab": {
          "base_uri": "https://localhost:8080/"
        },
        "id": "RIMuHO5FmzHs",
        "outputId": "6fed35d5-46be-4f00-e89f-7a6792524a2e"
      },
      "execution_count": null,
      "outputs": [
        {
          "output_type": "stream",
          "name": "stdout",
          "text": [
            "Files already downloaded and verified\n",
            "Files already downloaded and verified\n"
          ]
        }
      ]
    },
    {
      "cell_type": "code",
      "source": [],
      "metadata": {
        "id": "ANRTSFjuJwHV"
      },
      "execution_count": null,
      "outputs": []
    }
  ]
}