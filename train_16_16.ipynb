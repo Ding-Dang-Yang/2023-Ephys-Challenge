{
  "nbformat": 4,
  "nbformat_minor": 0,
  "metadata": {
    "colab": {
      "provenance": []
    },
    "kernelspec": {
      "name": "python3",
      "display_name": "Python 3"
    },
    "language_info": {
      "name": "python"
    }
  },
  "cells": [
    {
      "cell_type": "code",
      "source": [
        "pip install pennylane --upgrade"
      ],
      "metadata": {
        "id": "zYnCvzNyOdU-",
        "colab": {
          "base_uri": "https://localhost:8080/"
        },
        "outputId": "e1a7d1bf-e4bb-48f8-b97d-1079b1f2e1bb"
      },
      "execution_count": 8,
      "outputs": [
        {
          "output_type": "stream",
          "name": "stdout",
          "text": [
            "Collecting pennylane\n",
            "  Using cached PennyLane-0.33.1-py3-none-any.whl (1.5 MB)\n",
            "Requirement already satisfied: numpy in /usr/local/lib/python3.10/dist-packages (from pennylane) (1.23.5)\n",
            "Requirement already satisfied: scipy in /usr/local/lib/python3.10/dist-packages (from pennylane) (1.11.3)\n",
            "Requirement already satisfied: networkx in /usr/local/lib/python3.10/dist-packages (from pennylane) (3.2.1)\n",
            "Collecting rustworkx (from pennylane)\n",
            "  Downloading rustworkx-0.13.2-cp310-cp310-manylinux_2_17_x86_64.manylinux2014_x86_64.whl (2.0 MB)\n",
            "\u001b[2K     \u001b[90m━━━━━━━━━━━━━━━━━━━━━━━━━━━━━━━━━━━━━━━━\u001b[0m \u001b[32m2.0/2.0 MB\u001b[0m \u001b[31m20.9 MB/s\u001b[0m eta \u001b[36m0:00:00\u001b[0m\n",
            "\u001b[?25hRequirement already satisfied: autograd in /usr/local/lib/python3.10/dist-packages (from pennylane) (1.6.2)\n",
            "Requirement already satisfied: toml in /usr/local/lib/python3.10/dist-packages (from pennylane) (0.10.2)\n",
            "Requirement already satisfied: appdirs in /usr/local/lib/python3.10/dist-packages (from pennylane) (1.4.4)\n",
            "Collecting semantic-version>=2.7 (from pennylane)\n",
            "  Downloading semantic_version-2.10.0-py2.py3-none-any.whl (15 kB)\n",
            "Collecting autoray>=0.6.1 (from pennylane)\n",
            "  Downloading autoray-0.6.7-py3-none-any.whl (49 kB)\n",
            "\u001b[2K     \u001b[90m━━━━━━━━━━━━━━━━━━━━━━━━━━━━━━━━━━━━━━━━\u001b[0m \u001b[32m49.9/49.9 kB\u001b[0m \u001b[31m4.7 MB/s\u001b[0m eta \u001b[36m0:00:00\u001b[0m\n",
            "\u001b[?25hRequirement already satisfied: cachetools in /usr/local/lib/python3.10/dist-packages (from pennylane) (5.3.2)\n",
            "Collecting pennylane-lightning>=0.33 (from pennylane)\n",
            "  Downloading PennyLane_Lightning-0.33.1-cp310-cp310-manylinux_2_17_x86_64.manylinux2014_x86_64.whl (14.0 MB)\n",
            "\u001b[2K     \u001b[90m━━━━━━━━━━━━━━━━━━━━━━━━━━━━━━━━━━━━━━━━\u001b[0m \u001b[32m14.0/14.0 MB\u001b[0m \u001b[31m72.6 MB/s\u001b[0m eta \u001b[36m0:00:00\u001b[0m\n",
            "\u001b[?25hRequirement already satisfied: requests in /usr/local/lib/python3.10/dist-packages (from pennylane) (2.31.0)\n",
            "Requirement already satisfied: typing-extensions in /usr/local/lib/python3.10/dist-packages (from pennylane) (4.5.0)\n",
            "Requirement already satisfied: future>=0.15.2 in /usr/local/lib/python3.10/dist-packages (from autograd->pennylane) (0.18.3)\n",
            "Requirement already satisfied: charset-normalizer<4,>=2 in /usr/local/lib/python3.10/dist-packages (from requests->pennylane) (3.3.2)\n",
            "Requirement already satisfied: idna<4,>=2.5 in /usr/local/lib/python3.10/dist-packages (from requests->pennylane) (3.4)\n",
            "Requirement already satisfied: urllib3<3,>=1.21.1 in /usr/local/lib/python3.10/dist-packages (from requests->pennylane) (2.0.7)\n",
            "Requirement already satisfied: certifi>=2017.4.17 in /usr/local/lib/python3.10/dist-packages (from requests->pennylane) (2023.7.22)\n",
            "Installing collected packages: semantic-version, rustworkx, autoray, pennylane-lightning, pennylane\n",
            "Successfully installed autoray-0.6.7 pennylane-0.33.1 pennylane-lightning-0.33.1 rustworkx-0.13.2 semantic-version-2.10.0\n"
          ]
        }
      ]
    },
    {
      "cell_type": "code",
      "execution_count": 9,
      "metadata": {
        "id": "7jg-djdd-Z-g"
      },
      "outputs": [],
      "source": [
        "import numpy as np\n",
        "import pandas as pd\n",
        "from sklearn import datasets\n",
        "import seaborn as sns\n",
        "import jax;\n",
        "jax.config.update('jax_platform_name', 'cpu')\n",
        "jax.config.update(\"jax_enable_x64\", True)\n",
        "import jax.numpy as jnp\n",
        "import optax  # optimization using jax\n",
        "import pennylane as qml\n",
        "import pennylane.numpy as pnp"
      ]
    },
    {
      "cell_type": "code",
      "source": [
        "seed=0\n",
        "rng=np.random.default_rng(seed=seed)\n",
        "Num_wires=8\n",
        "Device=qml.device(\"default.qubit\", wires=Num_wires)"
      ],
      "metadata": {
        "id": "uGHbTUDk2boW"
      },
      "execution_count": 10,
      "outputs": []
    },
    {
      "cell_type": "code",
      "source": [
        "from google.colab import drive\n",
        "drive.mount('/content/drive')"
      ],
      "metadata": {
        "id": "sjLT9Nppod1d",
        "colab": {
          "base_uri": "https://localhost:8080/"
        },
        "outputId": "97eab950-420d-48a5-b4f6-f034e6965a58"
      },
      "execution_count": 11,
      "outputs": [
        {
          "output_type": "stream",
          "name": "stdout",
          "text": [
            "Mounted at /content/drive\n"
          ]
        }
      ]
    },
    {
      "cell_type": "code",
      "source": [
        "def Read_MNIST(data):\n",
        " fr=open(\"/content/drive/MyDrive/Colab Notebooks/Quantum machine learning/2023 Ephys Challenge/CIFAR-100_%s_16_16.text\"%(data),\"r\")\n",
        " img=[]\n",
        " trg=[]\n",
        " for line in fr:\n",
        "  lx=line.split()\n",
        "  if len(lx)==1:\n",
        "   trg.append(int(lx[0]))\n",
        "  else:\n",
        "   for i in range (len(lx)):\n",
        "    img.append(np.float64(lx[i]))\n",
        " fr.close()\n",
        " img2=np.asarray(img).reshape(-1,16*16)\n",
        " img3=img2/np.linalg.norm(img2,axis=1).reshape((-1,1))\n",
        " return jnp.asarray(trg),jnp.asarray(img3)"
      ],
      "metadata": {
        "id": "V14_1tTQoHGl"
      },
      "execution_count": 24,
      "outputs": []
    },
    {
      "cell_type": "code",
      "source": [
        "def Read_Data():\n",
        " y_test,x_test=Read_MNIST(\"test\")\n",
        " y_train,x_train=Read_MNIST(\"train\")\n",
        " return x_train,y_train,x_test,y_test"
      ],
      "metadata": {
        "id": "0EBtar5uoKOr"
      },
      "execution_count": 25,
      "outputs": []
    },
    {
      "cell_type": "code",
      "source": [
        "def convolutional_layer(weights,wires,skip_first_layer=True):\n",
        " n_wires=len(wires)\n",
        " assert n_wires >= 3, \"this circuit is too small!\"\n",
        " for p in [0, 1]:\n",
        "  for indx, w in enumerate(wires):\n",
        "   if indx % 2 == p and indx < n_wires - 1:\n",
        "    if indx % 2 == 0 and not skip_first_layer:\n",
        "      qml.U3(*weights[:3],wires=[w])\n",
        "      qml.U3(*weights[3:6],wires=[wires[indx+1]])\n",
        "    qml.IsingXX(weights[6],wires=[w,wires[indx+1]])\n",
        "    qml.IsingYY(weights[7],wires=[w,wires[indx+1]])\n",
        "    qml.IsingZZ(weights[8],wires=[w,wires[indx+1]])\n",
        "    qml.U3(*weights[9:12],wires=[w])\n",
        "    qml.U3(*weights[12:],wires=[wires[indx+1]])"
      ],
      "metadata": {
        "id": "w5SIIkthmwJf"
      },
      "execution_count": 26,
      "outputs": []
    },
    {
      "cell_type": "code",
      "source": [
        "def pooling_layer(weights, wires):\n",
        " n_wires = len(wires)\n",
        " assert len(wires) >= 2, \"this circuit is too small!\"\n",
        " for indx, w in enumerate(wires):\n",
        "  if indx % 2 == 1 and indx < n_wires:\n",
        "   m_outcome = qml.measure(w)\n",
        "   qml.cond(m_outcome, qml.U3)(*weights, wires=wires[indx - 1])"
      ],
      "metadata": {
        "id": "Re6cs1nQ_Fyd"
      },
      "execution_count": 27,
      "outputs": []
    },
    {
      "cell_type": "code",
      "source": [
        "def conv_and_pooling(kernel_weights,n_wires,skip_first_layer=True):\n",
        " convolutional_layer(kernel_weights[:15],n_wires,skip_first_layer=skip_first_layer)\n",
        " pooling_layer(kernel_weights[15:],n_wires)"
      ],
      "metadata": {
        "id": "j90hbd6UnR20"
      },
      "execution_count": 28,
      "outputs": []
    },
    {
      "cell_type": "code",
      "source": [
        "def dense_layer(weights,wires):\n",
        " qml.ArbitraryUnitary(weights,wires)"
      ],
      "metadata": {
        "id": "rseYE74PnUQE"
      },
      "execution_count": 29,
      "outputs": []
    },
    {
      "cell_type": "code",
      "source": [
        "@qml.qnode(Device,interface=\"jax\")\n",
        "def conv_net(weights,last_layer_weights,features):\n",
        " layers=weights.shape[1]\n",
        " wires=list(range(Num_wires))\n",
        " qml.AmplitudeEmbedding(features=features,wires=wires,pad_with=0.5)\n",
        " qml.Barrier(wires=wires,only_visual=True)\n",
        " for j in range(layers):\n",
        "  conv_and_pooling(weights[:,j],wires,skip_first_layer=(not j == 0))\n",
        "  wires = wires[::2]\n",
        "  qml.Barrier(wires=wires, only_visual=True)\n",
        " assert last_layer_weights.size == 4 ** (len(wires)) - 1, (\n",
        "  \"The size of the last layer weights vector is incorrect!\"\n",
        "  f\" \\n Expected {4 ** (len(wires)) - 1}, Given {last_layer_weights.size}\")\n",
        " dense_layer(last_layer_weights, wires)\n",
        " return qml.probs(wires=(0))"
      ],
      "metadata": {
        "id": "qpGjAju2nffk"
      },
      "execution_count": 30,
      "outputs": []
    },
    {
      "cell_type": "code",
      "source": [
        "@jax.jit\n",
        "def compute_out(weights, weights_last, features, labels):\n",
        "  cost=lambda weights,weights_last,feature,label:conv_net(weights,weights_last,feature)[label]\n",
        "  return jax.vmap(cost,in_axes=(None,None,0,0),out_axes=0)(weights,weights_last,features,labels)\n",
        "def compute_accuracy(weights, weights_last, features, labels):\n",
        "  out=compute_out(weights,weights_last,features,labels)\n",
        "  return jnp.sum(out>0.5)/len(out)\n",
        "def compute_cost(weights,weights_last,features,labels):\n",
        "  out=compute_out(weights,weights_last,features,labels)\n",
        "  return 1.0-jnp.sum(out)/len(labels)\n",
        "def init_weights():\n",
        "  weights=pnp.random.normal(loc=0,scale=1,size=(18,2),requires_grad=True) #18參數 2層\n",
        "  weights_last=pnp.random.normal(loc=0,scale=1,size=4**2-1,requires_grad=True)\n",
        "  return jnp.array(weights),jnp.array(weights_last)\n",
        "value_and_grad=jax.jit(jax.value_and_grad(compute_cost,argnums=[0,1]))"
      ],
      "metadata": {
        "id": "rmdH3ouW_Y6l"
      },
      "execution_count": 31,
      "outputs": []
    },
    {
      "cell_type": "code",
      "source": [
        "def train_qcnn(n_train,n_test,n_epochs):\n",
        " x_train,y_train,x_test,y_test=Read_Data()\n",
        " weights,weights_last=init_weights()\n",
        " cosine_decay_scheduler=optax.cosine_decay_schedule(0.1,decay_steps=n_epochs,alpha=0.95)\n",
        " optimizer=optax.adam(learning_rate=cosine_decay_scheduler)\n",
        " opt_state=optimizer.init((weights,weights_last))\n",
        " train_cost_epochs,test_cost_epochs,train_acc_epochs,test_acc_epochs=[],[],[],[]\n",
        " for step in range(n_epochs):\n",
        "  train_cost,grad_circuit=value_and_grad(weights,weights_last,x_train,y_train)\n",
        "  updates,opt_state=optimizer.update(grad_circuit,opt_state)\n",
        "  weights,weights_last=optax.apply_updates((weights,weights_last),updates)\n",
        "  train_cost_epochs.append(train_cost)\n",
        "  train_acc=compute_accuracy(weights,weights_last,x_train,y_train)\n",
        "  train_acc_epochs.append(train_acc)\n",
        "  test_out=compute_out(weights,weights_last,x_test,y_test)\n",
        "  test_acc=jnp.sum(test_out>0.5)/len(test_out)\n",
        "  test_acc_epochs.append(test_acc)\n",
        "  test_cost=1.0-jnp.sum(test_out)/len(test_out)\n",
        "  test_cost_epochs.append(test_cost)\n",
        " return train_cost_epochs,test_cost_epochs,train_acc_epochs,test_acc_epochs"
      ],
      "metadata": {
        "id": "pInYjNIr_dFP"
      },
      "execution_count": 32,
      "outputs": []
    },
    {
      "cell_type": "code",
      "source": [
        "def Write_acc(train_cost,test_cost,train_acc,test_acc):\n",
        " fw=open(\"/content/drive/MyDrive/Colab Notebooks/Quantum machine learning/2023 Ephys Challenge/accuracy_16_16.text\",\"w\")\n",
        " fw.write(\"epoch train_cost  test_cost  train_acc   test_acc\\n\")\n",
        " for i in range (len(train_acc)):\n",
        "  fw.write(\"%5d %10.2f %10.2f %10.2f %10.2f\\n\"%(i,train_cost[i],test_cost[i],train_acc[i],test_acc[i]))\n",
        " fw.close()"
      ],
      "metadata": {
        "id": "JmoZosNRtCkH"
      },
      "execution_count": 33,
      "outputs": []
    },
    {
      "cell_type": "code",
      "source": [
        "def Main():\n",
        " n_train=10000\n",
        " n_test=3000\n",
        " n_epochs=30\n",
        " train_cost,test_cost,train_acc,test_acc=train_qcnn(n_train,n_test,n_epochs)\n",
        " Write_acc(train_cost,test_cost,train_acc,test_acc)"
      ],
      "metadata": {
        "id": "dtbtilwd_uSK"
      },
      "execution_count": 48,
      "outputs": []
    },
    {
      "cell_type": "code",
      "source": [
        "Main()"
      ],
      "metadata": {
        "id": "9jmqaCZZzVp3"
      },
      "execution_count": 49,
      "outputs": []
    },
    {
      "cell_type": "code",
      "source": [],
      "metadata": {
        "id": "CxglJTzxNwxW"
      },
      "execution_count": null,
      "outputs": []
    }
  ]
}